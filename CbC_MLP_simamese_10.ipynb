{
  "nbformat": 4,
  "nbformat_minor": 0,
  "metadata": {
    "colab": {
      "provenance": [],
      "authorship_tag": "ABX9TyN0cUHxUSM7PIzCNXMytPXL",
      "include_colab_link": true
    },
    "kernelspec": {
      "name": "python3",
      "display_name": "Python 3"
    },
    "language_info": {
      "name": "python"
    },
    "gpuClass": "standard",
    "accelerator": "GPU"
  },
  "cells": [
    {
      "cell_type": "markdown",
      "metadata": {
        "id": "view-in-github",
        "colab_type": "text"
      },
      "source": [
        "<a href=\"https://colab.research.google.com/github/Mattemathics/Machine-Learning-Python/blob/BR-01/CbC_MLP_simamese_10.ipynb\" target=\"_parent\"><img src=\"https://colab.research.google.com/assets/colab-badge.svg\" alt=\"Open In Colab\"/></a>"
      ]
    },
    {
      "cell_type": "code",
      "execution_count": null,
      "metadata": {
        "id": "foJYhVyHRHpw"
      },
      "outputs": [],
      "source": [
        "import random\n",
        "import numpy as np\n",
        "import tensorflow as tf\n",
        "from tensorflow import keras\n",
        "from tensorflow.keras import layers\n",
        "import matplotlib.pyplot as plt\n",
        "import time"
      ]
    },
    {
      "cell_type": "code",
      "source": [
        "epochs = 10\n",
        "batch_size = 64\n",
        "margin = 1  # Margin for constrastive loss."
      ],
      "metadata": {
        "id": "98vMaFh7RY0-"
      },
      "execution_count": null,
      "outputs": []
    },
    {
      "cell_type": "code",
      "source": [
        "data_dim = 28*28\n",
        "(x_train, y_train), (x_test, y_test) = keras.datasets.mnist.load_data()\n",
        "\n",
        "x_train = np.reshape(x_train,(60000,data_dim))\n",
        "x_train = tf.keras.utils.normalize(x_train, axis=1)\n",
        "x_train = np.reshape(x_train,(60000, 28, 28))\n",
        "\n",
        "x_test = np.reshape(x_test,(10000,data_dim))\n",
        "x_test = tf.keras.utils.normalize(x_test, axis=1)\n",
        "x_test = np.reshape(x_test,(10000, 28, 28))\n",
        "\n",
        "# Change the data type to a floating point format\n",
        "x_train = x_train.astype(\"float32\")\n",
        "x_test = x_test.astype(\"float32\")\n",
        "\n",
        "\n",
        "y_train_cat = tf.keras.utils.to_categorical(y_train, num_classes=None, dtype='float32')\n",
        "y_test_cat = tf.keras.utils.to_categorical(y_test, num_classes=None, dtype='float32')\n",
        "\n",
        "ave_x = np.zeros((10, 28, 28))\n",
        "for i in range(60000):\n",
        "  ave_x[y_train[i]] = ave_x[y_train[i]] + x_train[i] \n",
        "\n",
        "ave_x = np.reshape(ave_x,(10,data_dim))\n",
        "ave_x = tf.keras.utils.normalize(ave_x, axis=1)\n",
        "ave_x = np.reshape(ave_x,(10, 28, 28))"
      ],
      "metadata": {
        "id": "aUgibyl5Ravv",
        "colab": {
          "base_uri": "https://localhost:8080/"
        },
        "outputId": "8f8f3e6d-2741-4201-bc39-1aedcb079190"
      },
      "execution_count": null,
      "outputs": [
        {
          "output_type": "stream",
          "name": "stdout",
          "text": [
            "Downloading data from https://storage.googleapis.com/tensorflow/tf-keras-datasets/mnist.npz\n",
            "11490434/11490434 [==============================] - 2s 0us/step\n"
          ]
        }
      ]
    },
    {
      "cell_type": "code",
      "source": [
        "def make_pairs(x, y):\n",
        "\n",
        "    num_classes = max(y) + 1\n",
        "    digit_indices = [np.where(y == i)[0] for i in range(num_classes)]\n",
        "\n",
        "    pairs = []\n",
        "    labels = []\n",
        "\n",
        "    for idx1 in range(len(x)):\n",
        "        # add a matching example\n",
        "        x1 = x[idx1]\n",
        "        label1 = y[idx1]\n",
        "        idx2 = random.choice(digit_indices[label1])\n",
        "        x2 = x[idx2]\n",
        "\n",
        "        pairs += [[x1, x2]]\n",
        "        labels += [1]\n",
        "\n",
        "        # add a non-matching example\n",
        "        label2 = random.randint(0, num_classes - 1)\n",
        "        while label2 == label1:\n",
        "            label2 = random.randint(0, num_classes - 1)\n",
        "\n",
        "        idx2 = random.choice(digit_indices[label2])\n",
        "        x2 = x[idx2]\n",
        "\n",
        "        pairs += [[x1, x2]]\n",
        "        labels += [0]\n",
        "\n",
        "    return np.array(pairs), np.array(labels).astype(\"float32\")\n",
        "\n",
        "\n",
        "# make train pairs\n",
        "pairs_train, labels_train = make_pairs(x_train, y_train)\n",
        "\n",
        "x_train_1 = pairs_train[:, 0] \n",
        "x_train_2 = pairs_train[:, 1]"
      ],
      "metadata": {
        "id": "jPb6UlqoRmVR"
      },
      "execution_count": null,
      "outputs": []
    },
    {
      "cell_type": "code",
      "source": [
        "#Define and train the detection block\n",
        "feature_number = 10\n",
        "c =10\n",
        "\n",
        "from keras import backend as K\n",
        "\n",
        "def sig_modified(x):\n",
        "    return K.sigmoid(x)\n",
        "\n",
        "def innerproduct_similarity(vects):\n",
        "\n",
        "    x, y = vects\n",
        "    inner_cal = tf.math.reduce_sum(tf.math.multiply(x, y, name=None), axis=1, keepdims=True)\n",
        "    return inner_cal\n",
        "\n",
        "#tf.math.maximum(inner_cal, tf.keras.backend.epsilon())\n",
        "\n",
        "\n",
        "input_data = layers.Input((28, 28, 1))\n",
        "x = tf.keras.layers.BatchNormalization()(input_data)\n",
        "x = layers.Conv2D(4, (5, 5), activation=\"tanh\")(x)\n",
        "x = layers.AveragePooling2D(pool_size=(2, 2))(x)\n",
        "x = layers.Conv2D(16, (5, 5), activation=\"tanh\")(x)\n",
        "x = layers.AveragePooling2D(pool_size=(2, 2))(x)\n",
        "x = layers.Flatten()(x)\n",
        "x = tf.keras.layers.BatchNormalization()(x)\n",
        "x = layers.Dense(feature_number, activation=\"tanh\")(x)\n",
        "feature_extractor_data = keras.Model(inputs= input_data, outputs= x)\n",
        "\n",
        "\n",
        "input_1 = layers.Input((28, 28, 1))\n",
        "input_2 = layers.Input((28, 28, 1))\n",
        "\n",
        "tower_1 = feature_extractor_data(input_1)\n",
        "tower_2 = feature_extractor_data(input_2)\n",
        "innerproduct_layer = layers.Lambda(innerproduct_similarity, name=\"merge\")([tower_1, tower_2])\n",
        "outoput_layer = layers.Dense(1, activation= sig_modified)(innerproduct_layer)\n",
        "detection = keras.Model(inputs= [input_1, input_2], outputs=outoput_layer)\n",
        "\n",
        "feature = keras.Model(inputs = input_1, outputs=tower_1)\n",
        "\n",
        "#detection.summary()"
      ],
      "metadata": {
        "id": "m5rbV1FGRy_0"
      },
      "execution_count": null,
      "outputs": []
    },
    {
      "cell_type": "code",
      "source": [
        "def loss(margin=1):\n",
        "  \n",
        "    def contrastive_loss(y_true, y_pred):\n",
        "        \"\"\"Calculates the constrastive loss.\n",
        "\n",
        "        Arguments:\n",
        "            y_true: List of labels, each label is of type float32.\n",
        "            y_pred: List of predictions of same length as of y_true,\n",
        "                    each label is of type float32.\n",
        "\n",
        "        Returns:\n",
        "            A tensor containing constrastive loss as floating point value.\n",
        "        \"\"\"\n",
        "\n",
        "        square_pred = tf.math.square(y_pred)\n",
        "        margin_square = tf.math.square(tf.math.maximum(margin - (y_pred), 0))\n",
        "        return tf.math.reduce_mean(\n",
        "            (1 - y_true) * square_pred + (y_true) * margin_square\n",
        "        )\n",
        "\n",
        "    return contrastive_loss"
      ],
      "metadata": {
        "id": "rfq0JYt1CxWF"
      },
      "execution_count": null,
      "outputs": []
    },
    {
      "cell_type": "code",
      "source": [
        "def myloss(y_true, y_pred):\n",
        "    cce = tf.keras.losses.CategoricalCrossentropy()\n",
        "    y_predd = y_pred/(1-y_pred)\n",
        "    return cce(y_true, y_predd)"
      ],
      "metadata": {
        "id": "rgRGHnr6kNV1"
      },
      "execution_count": null,
      "outputs": []
    },
    {
      "cell_type": "code",
      "source": [
        "detection.compile(loss=loss(margin=1), optimizer=tf.keras.optimizers.Adam(learning_rate=0.005), metrics=[\"accuracy\"])"
      ],
      "metadata": {
        "id": "Z865Uxf9kINm"
      },
      "execution_count": null,
      "outputs": []
    },
    {
      "cell_type": "code",
      "source": [
        "detection.trainable = True\n",
        "history = detection.fit(\n",
        "    [x_train_1, x_train_2],\n",
        "    labels_train,\n",
        "    batch_size=batch_size,\n",
        "    epochs=5,\n",
        ")"
      ],
      "metadata": {
        "colab": {
          "base_uri": "https://localhost:8080/"
        },
        "id": "GqZ1j1_iC7O1",
        "outputId": "09a9a8aa-2ca0-4bf4-ba38-c548d77d95e5"
      },
      "execution_count": null,
      "outputs": [
        {
          "output_type": "stream",
          "name": "stdout",
          "text": [
            "Epoch 1/5\n",
            "1875/1875 [==============================] - 17s 4ms/step - loss: 0.0674 - accuracy: 0.9043\n",
            "Epoch 2/5\n",
            "1875/1875 [==============================] - 8s 4ms/step - loss: 0.0269 - accuracy: 0.9664\n",
            "Epoch 3/5\n",
            "1875/1875 [==============================] - 8s 4ms/step - loss: 0.0235 - accuracy: 0.9695\n",
            "Epoch 4/5\n",
            "1875/1875 [==============================] - 8s 4ms/step - loss: 0.0226 - accuracy: 0.9708\n",
            "Epoch 5/5\n",
            "1875/1875 [==============================] - 9s 5ms/step - loss: 0.0216 - accuracy: 0.9721\n"
          ]
        }
      ]
    },
    {
      "cell_type": "code",
      "source": [
        "###neural network architecture based on the detection block\n",
        "c = 10\n",
        "k = 10\n",
        "p= 0.5\n",
        "data_dim = 28*28\n",
        "\n",
        "def sig_modi(x):\n",
        "    return 2 * K.sigmoid(x) -1\n",
        "\n",
        "input_x = layers.Input((28, 28, 1))\n",
        "\n",
        "input_w1 = layers.Input((1))\n",
        "w1_vector = layers.Dense(data_dim, use_bias=False, kernel_constraint=tf.keras.constraints.max_norm(p))(input_w1)\n",
        "w1_image = tf.keras.layers.Reshape((28, 28, 1))(w1_vector)\n",
        "dec1  = sig_modi(detection([input_x, w1_image]))\n",
        "input_w2 = layers.Input((1))\n",
        "w2_vector = layers.Dense(data_dim, use_bias=False, kernel_constraint=tf.keras.constraints.max_norm(p))(input_w2)\n",
        "w2_image = tf.keras.layers.Reshape((28, 28, 1))(w2_vector)\n",
        "dec2  = sig_modi(detection([input_x, w2_image]))\n",
        "input_w3 = layers.Input((1))\n",
        "w3_vector = layers.Dense(data_dim, use_bias=False, kernel_constraint=tf.keras.constraints.max_norm(p))(input_w3)\n",
        "w3_image = tf.keras.layers.Reshape((28, 28, 1))(w3_vector)\n",
        "dec3  = sig_modi(detection([input_x, w3_image]))\n",
        "input_w4 = layers.Input((1))\n",
        "w4_vector = layers.Dense(data_dim, use_bias=False, kernel_constraint=tf.keras.constraints.max_norm(p))(input_w4)\n",
        "w4_image = tf.keras.layers.Reshape((28, 28, 1))(w4_vector)\n",
        "dec4  = sig_modi(detection([input_x, w4_image]))\n",
        "input_w5 = layers.Input((1))\n",
        "w5_vector = layers.Dense(data_dim, use_bias=False, kernel_constraint=tf.keras.constraints.max_norm(p))(input_w5)\n",
        "w5_image = tf.keras.layers.Reshape((28, 28, 1))(w5_vector)\n",
        "dec5  = sig_modi(detection([input_x, w5_image]))\n",
        "\n",
        "input_w6 = layers.Input((1))\n",
        "w6_vector = layers.Dense(data_dim, use_bias=False, kernel_constraint=tf.keras.constraints.max_norm(p))(input_w6)\n",
        "w6_image = tf.keras.layers.Reshape((28, 28, 1))(w6_vector)\n",
        "dec6  = sig_modi(detection([input_x, w6_image]))\n",
        "\n",
        "input_w7 = layers.Input((1))\n",
        "w7_vector = layers.Dense(data_dim, use_bias=False, kernel_constraint=tf.keras.constraints.max_norm(p))(input_w7)\n",
        "w7_image = tf.keras.layers.Reshape((28, 28, 1))(w7_vector)\n",
        "dec7  = sig_modi(detection([input_x, w7_image]))\n",
        "\n",
        "input_w8 = layers.Input((1))\n",
        "w8_vector = layers.Dense(data_dim, use_bias=False, kernel_constraint=tf.keras.constraints.max_norm(p))(input_w8)\n",
        "w8_image = tf.keras.layers.Reshape((28, 28, 1))(w8_vector)\n",
        "dec8  = sig_modi(detection([input_x, w8_image]))\n",
        "\n",
        "input_w9 = layers.Input((1))\n",
        "w9_vector = layers.Dense(data_dim, use_bias=False, kernel_constraint=tf.keras.constraints.max_norm(p))(input_w9)\n",
        "w9_image = tf.keras.layers.Reshape((28, 28, 1))(w9_vector)\n",
        "dec9  = sig_modi(detection([input_x, w9_image]))\n",
        "\n",
        "input_w10 = layers.Input((1))\n",
        "w10_vector = layers.Dense(data_dim, use_bias=False, kernel_constraint=tf.keras.constraints.max_norm(p))(input_w10)\n",
        "w10_image = tf.keras.layers.Reshape((28, 28, 1))(w10_vector)\n",
        "dec10  = sig_modi(detection([input_x, w10_image]))\n",
        "\n",
        "\n",
        "concat = tf.keras.layers.Concatenate(axis=1)([dec1, dec2, dec3, dec4, dec5, dec6, dec7, dec8, dec9, dec10])\n",
        "output = layers.Dense(c, activation= 'sigmoid', kernel_initializer=tf.keras.initializers.Zeros(), use_bias=False)(concat)\n",
        "prob_classifier = keras.Model(inputs= [input_x, input_w1, input_w2, input_w3, input_w4, input_w5, input_w6, input_w7, input_w8, input_w9, input_w10], outputs=output)\n",
        "prob_classifier.compile(loss=myloss, optimizer=keras.optimizers.Adam(learning_rate=0.001), metrics=[\"categorical_accuracy\"])\n",
        "\n",
        "#detection.summary()\n",
        "#prob_classifier.summary()\n",
        "#keras.utils.plot_model(prob_classifier)"
      ],
      "metadata": {
        "id": "2S0_g_UzXIHf"
      },
      "execution_count": null,
      "outputs": []
    },
    {
      "cell_type": "code",
      "source": [
        "prob_classifier.layers[10].set_weights(ave_x[0].reshape(1,1,784))\n",
        "prob_classifier.layers[11].set_weights(ave_x[1].reshape(1,1,784))\n",
        "prob_classifier.layers[12].set_weights(ave_x[2].reshape(1,1,784))\n",
        "prob_classifier.layers[13].set_weights(ave_x[3].reshape(1,1,784))\n",
        "prob_classifier.layers[14].set_weights(ave_x[4].reshape(1,1,784))\n",
        "prob_classifier.layers[15].set_weights(ave_x[5].reshape(1,1,784))\n",
        "prob_classifier.layers[16].set_weights(ave_x[6].reshape(1,1,784))\n",
        "prob_classifier.layers[17].set_weights(ave_x[7].reshape(1,1,784))\n",
        "prob_classifier.layers[18].set_weights(ave_x[8].reshape(1,1,784))\n",
        "prob_classifier.layers[19].set_weights(ave_x[9].reshape(1,1,784))"
      ],
      "metadata": {
        "id": "trbFuWVMz0N4"
      },
      "execution_count": null,
      "outputs": []
    },
    {
      "cell_type": "code",
      "source": [
        "#training phase\n",
        "inp = np.ones(shape=(60000, 1))\n",
        "inpp = np.ones(shape=(10000, 1))\n",
        "detection.trainable = False\n",
        "\n",
        "for ru in range(1):\n",
        "  prob_classifier.layers[10].trainable = False\n",
        "  prob_classifier.layers[11].trainable = False\n",
        "  prob_classifier.layers[12].trainable = False\n",
        "  prob_classifier.layers[13].trainable = False\n",
        "  prob_classifier.layers[14].trainable = False\n",
        "  prob_classifier.layers[15].trainable = False\n",
        "  prob_classifier.layers[16].trainable = False\n",
        "  prob_classifier.layers[17].trainable = False\n",
        "  prob_classifier.layers[18].trainable = False\n",
        "  prob_classifier.layers[19].trainable = False\n",
        "  prob_classifier.layers[-1].trainable = True\n",
        "  history1 = prob_classifier.fit(\n",
        "      [x_train, inp, inp, inp, inp, inp, inp, inp, inp, inp, inp],\n",
        "      y_train_cat,\n",
        "      validation_data=([x_test, inpp, inpp, inpp, inpp, inpp, inpp, inpp, inpp, inpp, inpp], y_test_cat),\n",
        "      batch_size=batch_size,\n",
        "      epochs=2,\n",
        "  )\n",
        "  prob_classifier.layers[10].trainable = True\n",
        "  prob_classifier.layers[11].trainable = True\n",
        "  prob_classifier.layers[12].trainable = True\n",
        "  prob_classifier.layers[13].trainable = True\n",
        "  prob_classifier.layers[14].trainable = True\n",
        "  prob_classifier.layers[15].trainable = True\n",
        "  prob_classifier.layers[16].trainable = True\n",
        "  prob_classifier.layers[17].trainable = True\n",
        "  prob_classifier.layers[18].trainable = True\n",
        "  prob_classifier.layers[19].trainable = True\n",
        "  prob_classifier.layers[-1].trainable = False\n",
        "  history1 = prob_classifier.fit(\n",
        "      [x_train, inp, inp, inp, inp, inp, inp, inp, inp, inp, inp],\n",
        "      y_train_cat,\n",
        "      validation_data=([x_test, inpp, inpp, inpp, inpp, inpp, inpp, inpp, inpp, inpp, inpp], y_test_cat),\n",
        "      batch_size=batch_size,\n",
        "      epochs=1,\n",
        "  )\n"
      ],
      "metadata": {
        "colab": {
          "base_uri": "https://localhost:8080/"
        },
        "id": "2RTI1--Z2Ti-",
        "outputId": "a256b475-a492-4ab5-d357-07025013a7b0"
      },
      "execution_count": null,
      "outputs": [
        {
          "output_type": "stream",
          "name": "stdout",
          "text": [
            "Epoch 1/2\n",
            "938/938 [==============================] - 14s 15ms/step - loss: 0.7933 - categorical_accuracy: 0.9021 - val_loss: 0.6953 - val_categorical_accuracy: 0.9071\n",
            "Epoch 2/2\n",
            "938/938 [==============================] - 16s 17ms/step - loss: 0.6397 - categorical_accuracy: 0.9075 - val_loss: 0.5671 - val_categorical_accuracy: 0.9100\n",
            "938/938 [==============================] - 14s 15ms/step - loss: 0.5333 - categorical_accuracy: 0.9100 - val_loss: 0.4773 - val_categorical_accuracy: 0.9114\n"
          ]
        }
      ]
    },
    {
      "cell_type": "code",
      "source": [
        "plt.figure(figsize=(12, 5), dpi=100)\n",
        "tit = ['a','b','c','d','e','f','g','h','i','j']\n",
        "num = ['0','1','2','3','4','5','6','7','8','9']\n",
        "for ii in range(10):\n",
        "  plt.subplot(2,10,1+ii)\n",
        "  image = prob_classifier.layers[10+ii].get_weights()[0]\n",
        "  plt.imshow(image.reshape(28,28), cmap='gray')\n",
        "  plt.xticks([])\n",
        "  plt.yticks([])\n",
        "  plt.title(tit[ii])\n",
        "\n",
        "\n",
        "\n",
        "reasoning = prob_classifier.layers[-1].get_weights()[0]\n",
        "\n",
        "for jj in range(10):\n",
        "  plt.subplot(2,10,11+jj)\n",
        "  pos = np.transpose(reasoning)[jj]\n",
        "  neg = - pos\n",
        "  mat = np.transpose([pos, neg])\n",
        "  plt.yticks([0, 1, 2, 3, 4, 5, 6, 7 ,8, 9], ['a', 'b', 'c', 'd', 'e', 'f', 'g', 'h', 'i', 'j'])\n",
        "  plt.xticks([0,1],['m', '-m'])\n",
        "  plt.imshow(mat, cmap='gray')\n",
        "  plt.title(num[jj])\n",
        "\n",
        "plt.tight_layout()"
      ],
      "metadata": {
        "colab": {
          "base_uri": "https://localhost:8080/",
          "height": 375
        },
        "id": "Ss68qwN2FWK-",
        "outputId": "0507fff0-c88c-49c6-8656-a44beeabbe63"
      },
      "execution_count": null,
      "outputs": [
        {
          "output_type": "display_data",
          "data": {
            "text/plain": [
              "<Figure size 1200x500 with 20 Axes>"
            ],
            "image/png": "[encoded data removed]"
          },
          "metadata": {
            "needs_background": "light"
          }
        }
      ]
    }
  ]
}