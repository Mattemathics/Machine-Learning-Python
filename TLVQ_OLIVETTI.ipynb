{
  "nbformat": 4,
  "nbformat_minor": 0,
  "metadata": {
    "colab": {
      "provenance": [],
      "authorship_tag": "ABX9TyO2F/viGo1g6t5YXJMnaS+R",
      "include_colab_link": true
    },
    "kernelspec": {
      "name": "python3",
      "display_name": "Python 3"
    },
    "language_info": {
      "name": "python"
    }
  },
  "cells": [
    {
      "cell_type": "markdown",
      "metadata": {
        "id": "view-in-github",
        "colab_type": "text"
      },
      "source": [
        "<a href=\"https://colab.research.google.com/github/Mattemathics/Machine-Learning-Python/blob/BR-01/TLVQ_OLIVETTI.ipynb\" target=\"_parent\"><img src=\"https://colab.research.google.com/assets/colab-badge.svg\" alt=\"Open In Colab\"/></a>"
      ]
    },
    {
      "cell_type": "code",
      "execution_count": null,
      "metadata": {
        "id": "5uVa1CUFl4HP"
      },
      "outputs": [],
      "source": [
        "#Tangent LVQ that seems to work fine on Olivetti dataset\n",
        "import math\n",
        "import matplotlib.pyplot as plt\n",
        "import numpy as np\n",
        "import tensorflow as tf\n",
        "import scipy.linalg as splin\n",
        "import scipy\n",
        "import sklearn\n",
        "from sklearn.datasets import fetch_olivetti_faces\n",
        "from sklearn.model_selection import train_test_split\n",
        "from sklearn.decomposition import PCA"
      ]
    },
    {
      "cell_type": "code",
      "source": [
        "## eps = learning step, data-dim = extrinsic data dim, pn = number of prototoypes, pd = dimensions of prototype\n",
        "eps= 0.01\n",
        "data_dim=64*64\n",
        "c=40\n",
        "pn = 40\n",
        "pd = 3"
      ],
      "metadata": {
        "id": "nGFvJQ8Ul9XK"
      },
      "execution_count": null,
      "outputs": []
    },
    {
      "cell_type": "code",
      "source": [
        "####define the dataset\n",
        "faces =fetch_olivetti_faces(data_home=None, shuffle=True, random_state=0, download_if_missing=True, return_X_y=False)\n",
        "images = faces.images\n",
        "features = faces.data\n",
        "targets = faces.target\n",
        "train_features, test_features, train_targets, test_targets = train_test_split(\n",
        "        features, targets,\n",
        "        train_size=0.8,\n",
        "        test_size=0.2,\n",
        "        # random but same for all run, also accuracy depends on the\n",
        "        # selection of data e.g. if we put 10 then accuracy will be 1.0\n",
        "        # in this example\n",
        "        random_state=23,\n",
        "        # keep same proportion of 'target' in test and target data\n",
        "        stratify=targets\n",
        "    )\n",
        "\n",
        "idx = np.argsort(train_targets)\n",
        "#idx = np.squeeze(idx)\n",
        "train_features = train_features[idx]\n",
        "train_targets = train_targets[idx]\n",
        "\n",
        "train_features = tf.keras.utils.normalize(train_features, axis=1)\n",
        "test_features = tf.keras.utils.normalize(test_features, axis=1)"
      ],
      "metadata": {
        "id": "nmAr3H4UmJl7",
        "colab": {
          "base_uri": "https://localhost:8080/"
        },
        "outputId": "ab62bf87-9cd9-4653-97c0-44952d61f065"
      },
      "execution_count": null,
      "outputs": [
        {
          "output_type": "stream",
          "name": "stdout",
          "text": [
            "downloading Olivetti faces from https://ndownloader.figshare.com/files/5976027 to /root/scikit_learn_data\n"
          ]
        }
      ]
    },
    {
      "cell_type": "code",
      "source": [
        "####Functions \n",
        "\n",
        "def orthnomalization(W):\n",
        "    for i in range(pn):\n",
        "        W[i] = np.transpose(splin.orth(np.transpose(W[i])))\n",
        "\n",
        "def tanDist(x,W,v):\n",
        "    dist = np.random.uniform(low=0, high=0.5, size=[pn])\n",
        "    for i in range(pn):\n",
        "        dist[i] = np.linalg.norm(x-v[i])**2 - np.linalg.norm(np.matmul(W[i], x-v[i]))**2\n",
        "    return dist"
      ],
      "metadata": {
        "id": "0H1EDzAEmNbZ"
      },
      "execution_count": null,
      "outputs": []
    },
    {
      "cell_type": "code",
      "source": [
        "#define protototypes\n",
        "W = np.random.uniform(low=0, high=0.5, size=[pn, pd, data_dim])\n",
        "orthnomalization(W)\n",
        "v = np.random.uniform(low=0, high=0.01, size=[pn, data_dim])\n",
        "\n",
        "\n",
        "#initializing the bias prototypes \n",
        "for i in range(320):\n",
        "    v[train_targets[i]] = train_features[i] + v[train_targets[i]]\n",
        "\n",
        "for i in range(c):\n",
        "    v[i] = v[i]/np.linalg.norm(v[i])\n",
        "\n",
        "pca = PCA()\n",
        "for i in range(c):\n",
        "  one = train_features[train_targets == i] - v[i]\n",
        "  pca.fit(one)\n",
        "  two = pca.components_\n",
        "  three = two[0:pd,:]\n",
        "  W[i] =three"
      ],
      "metadata": {
        "id": "Qy8uuhPmmQ5z"
      },
      "execution_count": null,
      "outputs": []
    },
    {
      "cell_type": "code",
      "source": [
        "##Training part tangent LVQ\n",
        "for tot in range(10):\n",
        "  for ii in range(500):\n",
        "      lab = np.random.randint(0, 320, dtype=int)\n",
        "      x = train_features[lab]\n",
        "      y = train_targets[lab]\n",
        "      mat = np.identity(data_dim) - np.matmul(np.transpose(W[y]), W[y])\n",
        "      diff =  x - v[y]\n",
        "      diff = np.reshape(diff,(data_dim,1))\n",
        "      W[y] = W[y] + 2* eps *np.transpose(np.matmul(np.matmul(diff,np.transpose(diff)),np.transpose(W[y])))\n",
        "      v[y] = v[y] + 2* eps * np.reshape(np.matmul(mat,diff),(data_dim,))\n",
        "      W[y] = np.transpose(splin.orth(np.transpose(W[y])))\n",
        "  ###evaluation\n",
        "  acc = 0\n",
        "  for i in range(80):\n",
        "      x = test_features[i]\n",
        "      y = test_targets[i]\n",
        "      dist = tanDist(x,W,v)\n",
        "      la = np.argmin(dist)\n",
        "      if la == y:\n",
        "          acc = acc + 1\n",
        "\n",
        "  print(\"accuracy is\")\n",
        "  print(acc/80)"
      ],
      "metadata": {
        "id": "4PMMV6AJnIZf",
        "colab": {
          "base_uri": "https://localhost:8080/"
        },
        "outputId": "96a4a4eb-7ec5-4455-d94c-7b889cedeccf"
      },
      "execution_count": null,
      "outputs": [
        {
          "output_type": "stream",
          "name": "stdout",
          "text": [
            "accuracy is\n",
            "0.9625\n",
            "accuracy is\n",
            "0.9625\n",
            "accuracy is\n",
            "0.9625\n",
            "accuracy is\n",
            "0.9625\n",
            "accuracy is\n",
            "0.9625\n",
            "accuracy is\n",
            "0.9625\n",
            "accuracy is\n",
            "0.9625\n",
            "accuracy is\n",
            "0.9625\n",
            "accuracy is\n",
            "0.9625\n",
            "accuracy is\n",
            "0.9625\n"
          ]
        }
      ]
    },
    {
      "cell_type": "code",
      "source": [
        "###evaluation\n",
        "acc = 0\n",
        "for i in range(80):\n",
        "    x = test_features[i]\n",
        "    y = test_targets[i]\n",
        "    dist = tanDist(x,W,v)\n",
        "    la = np.argmin(dist)\n",
        "    if la == y:\n",
        "        acc = acc + 1\n",
        "\n",
        "print(\"accuracy is\")\n",
        "print(acc/80)"
      ],
      "metadata": {
        "colab": {
          "base_uri": "https://localhost:8080/"
        },
        "id": "BlUE5YqmnZuZ",
        "outputId": "a48bdbc7-b1c7-4c40-f7fb-30e7d6d05f34"
      },
      "execution_count": null,
      "outputs": [
        {
          "output_type": "stream",
          "name": "stdout",
          "text": [
            "accuracy is\n",
            "0.9625\n"
          ]
        }
      ]
    },
    {
      "cell_type": "code",
      "source": [
        "fig = plt.figure(figsize=(10,7))\n",
        "alph = ['a','b','c','d','e','f','g','h','i','j']\n",
        "alph = alph[0:c]\n",
        "x = np.array(range(c))\n",
        "x1 = np.array(range(2))\n",
        "\n",
        "for i in range(3):\n",
        "    img = np.reshape(W[2,i], (64, 64))\n",
        "    fig.add_subplot(2, 10 + 1, i + 1)\n",
        "    plt.imshow(img, cmap=plt.cm.binary)\n",
        "    plt.axis('off')\n",
        "    plt.title(alph[i])\n",
        "\n",
        "for i in range(10):\n",
        "    im = np.reshape(v[i], (64, 64))\n",
        "    fig.add_subplot(2, 10 + 1, i + 12)\n",
        "    plt.imshow(im, cmap=plt.cm.binary)\n",
        "    plt.yticks(x, alph)\n",
        "    plt.xticks(x1, ['m','-m'])\n",
        "    plt.title(i)\n",
        "\n",
        "plt.tight_layout()\n",
        "plt.show()"
      ],
      "metadata": {
        "id": "x9MGITHJnccM"
      },
      "execution_count": null,
      "outputs": []
    },
    {
      "cell_type": "code",
      "source": [
        "promat = np.random.uniform(low=0, high=0.5, size=[40, 40])\n",
        "free = np.random.uniform(low=0, high=0.5, size=[40, 40])\n",
        "for i in range(40):\n",
        "  for j in range(40):\n",
        "    matr = np.concatenate((W[i],W[j]),axis=0)\n",
        "    free[i,j] = 2*np.linalg.matrix_rank(matr) - np.linalg.matrix_rank(W[i]) - np.linalg.matrix_rank(W[j])\n",
        "    promat[i,j] = (np.linalg.norm(v[i]-v[j])**2 - np.linalg.norm(np.matmul(matr, v[i]-v[j]))**2)**2\n",
        "    #print(a)\n",
        "    #print(np.linalg.norm(np.matmul(matr, (v[i]-v[j+i+1]))))\n",
        "print(promat)\n",
        "print(free)"
      ],
      "metadata": {
        "colab": {
          "base_uri": "https://localhost:8080/"
        },
        "id": "iS1bwnBMnfwC",
        "outputId": "76d43383-4783-4729-d205-25292c1820c3"
      },
      "execution_count": null,
      "outputs": [
        {
          "output_type": "stream",
          "name": "stdout",
          "text": [
            "[[0.         0.00080117 0.00057341 ... 0.00045594 0.00062532 0.00036225]\n",
            " [0.00080117 0.         0.00272112 ... 0.00321004 0.00254601 0.0027276 ]\n",
            " [0.00057341 0.00272112 0.         ... 0.000454   0.00064373 0.00016442]\n",
            " ...\n",
            " [0.00045594 0.00321004 0.000454   ... 0.         0.00112018 0.00010992]\n",
            " [0.00062532 0.00254601 0.00064373 ... 0.00112018 0.         0.00052515]\n",
            " [0.00036225 0.0027276  0.00016442 ... 0.00010992 0.00052515 0.        ]]\n",
            "[[0. 6. 6. ... 6. 6. 6.]\n",
            " [6. 0. 6. ... 6. 6. 6.]\n",
            " [6. 6. 0. ... 6. 6. 6.]\n",
            " ...\n",
            " [6. 6. 6. ... 0. 6. 6.]\n",
            " [6. 6. 6. ... 6. 0. 6.]\n",
            " [6. 6. 6. ... 6. 6. 0.]]\n"
          ]
        }
      ]
    }
  ]
}