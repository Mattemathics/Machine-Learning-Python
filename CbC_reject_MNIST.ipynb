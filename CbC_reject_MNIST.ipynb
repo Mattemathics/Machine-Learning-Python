{
  "nbformat": 4,
  "nbformat_minor": 0,
  "metadata": {
    "colab": {
      "provenance": [],
      "authorship_tag": "ABX9TyNm0I9SjYXKPZ9HI7gADPUk",
      "include_colab_link": true
    },
    "kernelspec": {
      "name": "python3",
      "display_name": "Python 3"
    },
    "language_info": {
      "name": "python"
    }
  },
  "cells": [
    {
      "cell_type": "markdown",
      "metadata": {
        "id": "view-in-github",
        "colab_type": "text"
      },
      "source": [
        "<a href=\"https://colab.research.google.com/github/Mattemathics/Machine-Learning-Python/blob/BR-01/CbC_reject_MNIST.ipynb\" target=\"_parent\"><img src=\"https://colab.research.google.com/assets/colab-badge.svg\" alt=\"Open In Colab\"/></a>"
      ]
    },
    {
      "cell_type": "code",
      "execution_count": null,
      "metadata": {
        "id": "6FhvCPg0pOzj"
      },
      "outputs": [],
      "source": [
        "##CbC with reject option applied to mnist\n",
        "import numpy as np\n",
        "import tensorflow as tf\n",
        "import matplotlib.pyplot as plt\n",
        "from matplotlib.colors import ListedColormap"
      ]
    },
    {
      "cell_type": "code",
      "source": [
        "################parameters defined\n",
        "k = 9\n",
        "c = 10\n",
        "eps = 0.01\n",
        "train_iter = 500\n",
        "test_iter = 100\n",
        "data_dim = 28*28\n",
        "lambVal = 0.01\n",
        "ts =0.88"
      ],
      "metadata": {
        "id": "Vm2H1AR7qQr0"
      },
      "execution_count": null,
      "outputs": []
    },
    {
      "cell_type": "code",
      "source": [
        "#define the dataset\n",
        "mnist = tf.keras.datasets.mnist\n",
        "(x_train, y_train), (x_test, y_test) = mnist.load_data()\n",
        "x_train = np.reshape(x_train,(60000,data_dim))\n",
        "x_train = tf.keras.utils.normalize(x_train, axis=1)\n",
        "x_test = np.reshape(x_test,(10000,data_dim))\n",
        "x_test = tf.keras.utils.normalize(x_test, axis=1)"
      ],
      "metadata": {
        "colab": {
          "base_uri": "https://localhost:8080/"
        },
        "id": "rpsHI7PaqaZJ",
        "outputId": "de11d89a-d8f3-4b6b-d3b5-8b1ed1d14d37"
      },
      "execution_count": null,
      "outputs": [
        {
          "output_type": "stream",
          "name": "stdout",
          "text": [
            "Downloading data from https://storage.googleapis.com/tensorflow/tf-keras-datasets/mnist.npz\n",
            "11490434/11490434 [==============================] - 0s 0us/step\n"
          ]
        }
      ]
    },
    {
      "cell_type": "code",
      "source": [
        "###define adaptable parameters\n",
        "prototypes = np.zeros((k,data_dim))\n",
        "\n",
        "for i in range(1000):\n",
        "    if y_train[i] <k:\n",
        "        prototypes[y_train[i]] = prototypes[y_train[i]] + x_train[i]\n",
        "\n",
        "for i in range(k):\n",
        "    prototypes[i] = prototypes[i]/np.linalg.norm(prototypes[i])\n",
        "\n",
        "\n",
        "pos_reasoning = 0.7* np.eye(c,k)\n",
        "neg_reasoning = 0.2* (np.ones((c,k)) - np.eye(c,k))\n",
        "neu_reasoning = np.ones((c,k)) - pos_reasoning - neg_reasoning"
      ],
      "metadata": {
        "id": "AMC0NiKVqkwa"
      },
      "execution_count": null,
      "outputs": []
    },
    {
      "cell_type": "code",
      "source": [
        "####define functions\n",
        "def N(x):\n",
        "    vec = predictor(x)\n",
        "    return np.sum(vec)\n",
        "\n",
        "def theta(j):\n",
        "    cird = 0\n",
        "    for z in range(k):\n",
        "        cird = cird + (1 - neu_reasoning[j, z])\n",
        "    bilds = np.maximum(pos_reasoning[j],neg_reasoning[j])\n",
        "    return (1/(1-ts)) * (1/cird) * np.sum(bilds)\n",
        "\n",
        "def H(x,gamma):\n",
        "    inp = maxp(x)+ts-1\n",
        "    return sig(inp,gamma)\n",
        "\n",
        "def maxp(x):\n",
        "    y_pred = predictorp(x)\n",
        "    s = np.argmax(y_pred)\n",
        "    return y_pred[s]\n",
        "\n",
        "def maxl(x):\n",
        "    y_pred = predictorp(x)\n",
        "    s = np.argmax(y_pred)\n",
        "    return s\n",
        "\n",
        "def sig(x,lam):\n",
        "    return 1/(1+np.exp(-(x/lam)))\n",
        "\n",
        "def phi(x,y,lam):\n",
        "    return (1/lam) * sig(deltaP(x,y),lam) * (1-sig(deltaP(x,y),lam))\n",
        "\n",
        "def deltaP(x, y_true):\n",
        "        y_pred = predictorp(x)\n",
        "        tem = y_pred\n",
        "        s = np.argmax(y_pred)\n",
        "        if s == y_true:\n",
        "            tem[s] = 0\n",
        "            s = np.argmax(tem)\n",
        "        return y_pred[s] - y_pred[y_true]\n",
        "\n",
        "\n",
        "def FirstAndSecond(x, y_true):\n",
        "        y_pred = predictorp(x)\n",
        "        tem = y_pred\n",
        "        s = np.argmax(y_pred)\n",
        "        if s == y_true:\n",
        "            tem[s] = 0\n",
        "            s = np.argmax(tem)\n",
        "        return s\n",
        "\n",
        "\n",
        "def d(x,w):\n",
        "    out = np.maximum(np.dot(x,w)+0.3, 0)\n",
        "    return out\n",
        "\n",
        "\n",
        "def Dd(x,w):\n",
        "    de = d(x,w)\n",
        "    if de <= 0:\n",
        "        out = 0\n",
        "    if de > 0:\n",
        "        out = x\n",
        "    return out\n",
        "\n",
        "def dv(x):\n",
        "    out = np.zeros(k)\n",
        "    for i in range(k):\n",
        "        out[i] = d(x,prototypes[i])\n",
        "    return out\n",
        "\n",
        "def predictor(x):\n",
        "    prob = np.zeros(c)\n",
        "    for j in range(c):\n",
        "        ard = 0\n",
        "        bird = 0\n",
        "        cird = 0\n",
        "        for t in range(k):\n",
        "            ard = ard + d(x, prototypes[t]) * pos_reasoning[j,t]\n",
        "            bird = bird + (1- d(x, prototypes[t])) * neg_reasoning[j,t]\n",
        "            cird = cird + (1 - neu_reasoning[j,t])\n",
        "        prob[j] = (ard + bird)/cird\n",
        "    return prob\n",
        "\n",
        "def predictorp(x):\n",
        "    vec = predictor(x)\n",
        "    return vec/np.sum(vec)\n",
        "\n",
        "def derivativePW(x,t,j):\n",
        "    pr = predictor(x)\n",
        "    Nn = np.sum(pr)\n",
        "    return (1/Nn)**2 * derivativePhW(x,t,j) * Nn - derivaitveNW(x,t) * pr[j]\n",
        "\n",
        "def derivaitveNW(x,t):\n",
        "    temp = 0\n",
        "    for j in range(c):\n",
        "        temp = derivativePhW(x, t, j) + temp\n",
        "    return temp\n",
        "\n",
        "def derivativePhW(x,t,j):\n",
        "    cird = 0\n",
        "    for z in range(k):\n",
        "        cird = cird + (1 - neu_reasoning[j,z])\n",
        "    return (1/cird)*((pos_reasoning[j,t] - neg_reasoning[j,t])* Dd(x,prototypes[t]))\n",
        "\n",
        "def derivativerp(x,j,t):\n",
        "    cird = 0\n",
        "    pr = predictor(x)\n",
        "    Nn = np.sum(pr)\n",
        "    for z in range(k):\n",
        "        cird = cird + (1 - neu_reasoning[j, z])\n",
        "    return (Nn-pr[j])*d(x,prototypes[t])/(cird * Nn**2)\n",
        "\n",
        "def derivativern(x,j,t):\n",
        "    cird = 0\n",
        "    pr = predictor(x)\n",
        "    Nn = np.sum(pr)\n",
        "    for z in range(k):\n",
        "        cird = cird + (1 - neu_reasoning[j, z])\n",
        "    return (Nn - pr[j]) * (1-d(x, prototypes[t])) / (cird * Nn ** 2)\n"
      ],
      "metadata": {
        "id": "w5GJnSxiqvBY"
      },
      "execution_count": null,
      "outputs": []
    },
    {
      "cell_type": "code",
      "source": [
        "##training phase\n",
        "for ii in range(train_iter):\n",
        "    i= ii % 200\n",
        "    gammaVal = 1/(ii+1)\n",
        "    arda = phi(x_train[i], y_train[i], lambVal)\n",
        "    S = FirstAndSecond(x_train[i], y_train[i])\n",
        "    Hi = H(x_train[i],gammaVal)\n",
        "    aterm = (1/gammaVal) * (1-Hi) * (sig(deltaP(x_train[i],y_train[i]),lambVal)-ts)\n",
        "    for t in range(k):\n",
        "        W_grad = Hi*(aterm * derivativePW(x_train[i],t,maxl(x_train[i]))+ arda * (derivativePW(x_train[i],t,S) - derivativePW(x_train[i],t,y_train[i])))\n",
        "        prototypes[t] = prototypes[t] - eps * W_grad\n",
        "        prototypes[t] = prototypes[t] / np.linalg.norm(prototypes[t])\n",
        "\n",
        "\n",
        "    for t in range(k):\n",
        "        if maxl(x_train[i]) == S:\n",
        "            tem = pos_reasoning[S,t] - eps * Hi*((aterm+arda) * derivativerp(x_train[i],S,t))\n",
        "        if maxl(x_train[i]) != S:\n",
        "            tem = pos_reasoning[S, t] - eps * Hi * arda * derivativerp(x_train[i], S, t)\n",
        "        if tem<1 and tem>0:\n",
        "            pos_reasoning[S, t] = tem\n",
        "\n",
        "        if maxl(x_train[i]) != y_train[i]:\n",
        "            tem = pos_reasoning[y_train[i],t] + eps * Hi * arda * derivativerp(x_train[i], y_train[i],t)\n",
        "        if maxl(x_train[i]) == y_train[i]:\n",
        "            tem = pos_reasoning[y_train[i],t] + eps * Hi * ((aterm+arda) * derivativerp(x_train[i], y_train[i],t))\n",
        "        if tem<1 and tem>0:\n",
        "            pos_reasoning[y_train[i], t] =tem\n",
        "\n",
        "        if maxl(x_train[i]) != S:\n",
        "            tem = neg_reasoning[S,t] - eps * Hi * arda * derivativern(x_train[i],S,t)\n",
        "        if maxl(x_train[i]) == S:\n",
        "            tem = neg_reasoning[S,t] - eps * Hi * ((aterm+arda) * derivativern(x_train[i],S,t))\n",
        "        if tem<1 and tem>0:\n",
        "            neg_reasoning[S, t] = tem\n",
        "        if maxl(x_train[i]) != y_train[i]:\n",
        "            tem =  neg_reasoning[y_train[i], t] + eps * Hi * arda * derivativern(x_train[i], y_train[i],t)\n",
        "        if maxl(x_train[i]) == y_train[i]:\n",
        "            tem =  neg_reasoning[y_train[i], t] + eps * Hi * ((aterm+arda) * derivativern(x_train[i], y_train[i],t))\n",
        "        if tem<1 and tem>0:\n",
        "            neg_reasoning[y_train[i], t] =tem\n",
        "\n",
        "    neu_reasoning = np.ones((c, k)) - pos_reasoning - neg_reasoning"
      ],
      "metadata": {
        "id": "-VpumBy6q8K_"
      },
      "execution_count": null,
      "outputs": []
    },
    {
      "cell_type": "code",
      "source": [
        "##evaluation phase\n",
        "count = 0\n",
        "accepted = 0\n",
        "rejectedSamples = np.zeros((1,2))\n",
        "\n",
        "for i in range(test_iter):\n",
        "    ay = np.argmax(predictorp(x_test[i]))\n",
        "    may = y_test[i]\n",
        "    if maxp(x_test[i]) > (1 - ts):\n",
        "        accepted = accepted +1\n",
        "        if ay == may:\n",
        "            count = count +1\n",
        "    #if maxp(x_test[i]) < (1 - ts):\n",
        "     #   print(dv(x_test[i]))\n",
        "      #  print(y_test[i])\n",
        "\n",
        "print(\"accuarcy is \", count/accepted)\n",
        "print(accepted)"
      ],
      "metadata": {
        "colab": {
          "base_uri": "https://localhost:8080/"
        },
        "id": "haQN8m_KrGvz",
        "outputId": "d3dea9f8-7a2d-45dc-b9e4-a3d4a5c09eee"
      },
      "execution_count": null,
      "outputs": [
        {
          "output_type": "stream",
          "name": "stdout",
          "text": [
            "accuarcy is  1.0\n",
            "31\n"
          ]
        }
      ]
    },
    {
      "cell_type": "code",
      "source": [
        "#######Visualization part\n",
        "\n",
        "tex = ['a','b','c','d','e','f','g','h','i']\n",
        "numer = np.array(range(9))\n",
        "numer2 = np.array(range(3))\n",
        "tex2 = ['r+','r-','r0']\n",
        "\n",
        "\n",
        "fig = plt.figure(figsize=(10,10))\n",
        "\n",
        "for i in range(k):\n",
        "    fig.add_subplot(4, 5, i+1)\n",
        "    img = np.reshape(prototypes[i],(28,28))\n",
        "    plt.imshow(img, cmap='gray')\n",
        "    plt.yticks([])\n",
        "    plt.xticks([])\n",
        "    plt.title(tex[i])\n",
        "\n",
        "for i in range(c):\n",
        "    fig.add_subplot(4, 5, i+11)\n",
        "    img = np.stack((pos_reasoning[i], neg_reasoning[i], neu_reasoning[i]))\n",
        "    plt.imshow(img, cmap='gray', vmin=0, vmax=1)\n",
        "    plt.yticks(numer2, tex2)\n",
        "    plt.xticks(numer, tex)\n",
        "    plt.title(i)\n",
        "    #ax0.title.set_text('zero')\n",
        "\n",
        "\n",
        "#shades = np.linspace(0,1,11)\n",
        "#im = np.reshape(shades, (1, 11))\n",
        "#fig.add_subplot(4, 1, 4)\n",
        "#plt.imshow(im, cmap='gray', vmin=0, vmax=1)\n",
        "#y = np.array(range(11))\n",
        "#shades = np.around(shades, 2)\n",
        "#plt.xticks(y, shades)\n",
        "#plt.yticks([])\n",
        "\n",
        "plt.tight_layout()\n",
        "plt.show()\n",
        "\n",
        "print(pos_reasoning)\n",
        "print(neg_reasoning)\n",
        "print(neu_reasoning)"
      ],
      "metadata": {
        "colab": {
          "base_uri": "https://localhost:8080/",
          "height": 1000
        },
        "id": "j3z4HV_4rQ4_",
        "outputId": "499e2327-3c29-49c5-9151-bd58740a978c"
      },
      "execution_count": null,
      "outputs": [
        {
          "output_type": "display_data",
          "data": {
            "text/plain": [
              "<Figure size 720x720 with 19 Axes>"
            ],
            "image/png": "[encoded data removed]"
          },
          "metadata": {
            "needs_background": "light"
          }
        },
        {
          "output_type": "stream",
          "name": "stdout",
          "text": [
            "[[0.84289326 0.05807844 0.11656816 0.12056291 0.09519779 0.12933203\n",
            "  0.09650349 0.09405316 0.1153986 ]\n",
            " [0.06365955 0.8316876  0.10590797 0.09945962 0.06744242 0.10286797\n",
            "  0.08600614 0.09066575 0.1110291 ]\n",
            " [0.11777505 0.10300771 0.82636334 0.10166912 0.10273796 0.10350115\n",
            "  0.10651669 0.08918625 0.07006068]\n",
            " [0.06866443 0.07764086 0.11070125 0.81413194 0.06632128 0.10568973\n",
            "  0.07754336 0.06993924 0.09412132]\n",
            " [0.07439075 0.05242667 0.09407253 0.08258959 0.82823764 0.0967103\n",
            "  0.09645141 0.08741039 0.09591398]\n",
            " [0.09337114 0.07982942 0.11886883 0.12587025 0.08564726 0.81848784\n",
            "  0.09904115 0.08433626 0.11280569]\n",
            " [0.0889588  0.07051171 0.1067539  0.09195955 0.08554509 0.10444065\n",
            "  0.8192625  0.06442388 0.09895612]\n",
            " [0.06497296 0.06156841 0.06924941 0.06372071 0.07225243 0.07177517\n",
            "  0.05675437 0.78623851 0.07362139]\n",
            " [0.05833978 0.07834279 0.08529961 0.07561002 0.06603476 0.08065481\n",
            "  0.06162109 0.07380822 0.78058464]\n",
            " [0.01342388 0.01181039 0.01691333 0.01998444 0.02288739 0.02286723\n",
            "  0.01571503 0.02711955 0.02445426]]\n",
            "[[0.00834222 0.27620788 0.23797499 0.23135561 0.25421127 0.21161595\n",
            "  0.24656363 0.24880926 0.22743164]\n",
            " [0.287436   0.01668714 0.24557102 0.24704262 0.27876367 0.24453504\n",
            "  0.26002658 0.25289666 0.22487002]\n",
            " [0.23734757 0.24958513 0.01436711 0.23035649 0.23673596 0.22378853\n",
            "  0.24359644 0.24405068 0.22019424]\n",
            " [0.24624154 0.25231142 0.23538697 0.00643208 0.24865652 0.21445476\n",
            "  0.24765563 0.23867987 0.22032239]\n",
            " [0.2612293  0.28312296 0.24283904 0.26191799 0.0160682  0.24761388\n",
            "  0.24778064 0.25676187 0.24872908]\n",
            " [0.23764924 0.26255608 0.24335465 0.23933056 0.26108295 0.01540974\n",
            "  0.24855271 0.25997361 0.22917283]\n",
            " [0.24668349 0.26506907 0.22876238 0.24348123 0.2354595  0.21650265\n",
            "  0.0066659  0.2563458  0.22175784]\n",
            " [0.25898794 0.26192989 0.25230876 0.25222191 0.24443908 0.24533574\n",
            "  0.25900169 0.01709442 0.24432171]\n",
            " [0.25566549 0.23579225 0.2315549  0.23067167 0.24077855 0.22595677\n",
            "  0.24482196 0.23007472 0.01207487]\n",
            " [0.22214264 0.22375084 0.21864122 0.21556541 0.21265761 0.21267225\n",
            "  0.21981957 0.20841041 0.21106879]]\n",
            "[[0.14876452 0.66571368 0.64545685 0.64808148 0.65059094 0.65905202\n",
            "  0.65693288 0.65713758 0.65716976]\n",
            " [0.64890445 0.15162526 0.64852101 0.65349775 0.65379391 0.65259699\n",
            "  0.65396728 0.65643759 0.66410088]\n",
            " [0.64487737 0.64740716 0.15926955 0.66797439 0.66052609 0.67271032\n",
            "  0.64988687 0.66676306 0.70974507]\n",
            " [0.68509404 0.67004772 0.65391178 0.17943598 0.6850222  0.67985551\n",
            "  0.67480101 0.69138089 0.6855563 ]\n",
            " [0.66437995 0.66445037 0.66308843 0.65549242 0.15569416 0.65567582\n",
            "  0.65576795 0.65582773 0.65535694]\n",
            " [0.66897962 0.6576145  0.63777651 0.63479919 0.65326979 0.16610242\n",
            "  0.65240613 0.65569013 0.65802148]\n",
            " [0.66435771 0.66441923 0.66448372 0.66455922 0.67899541 0.6790567\n",
            "  0.1740716  0.67923032 0.67928604]\n",
            " [0.6760391  0.6765017  0.67844183 0.68405739 0.68330849 0.68288909\n",
            "  0.68424395 0.19666708 0.6820569 ]\n",
            " [0.68599474 0.68586496 0.68314549 0.69371831 0.69318668 0.69338842\n",
            "  0.69355695 0.69611706 0.20734048]\n",
            " [0.76443349 0.76443877 0.76444545 0.76445015 0.764455   0.76446052\n",
            "  0.76446539 0.76447004 0.76447695]]\n"
          ]
        }
      ]
    }
  ]
}